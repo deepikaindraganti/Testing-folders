{
 "cells": [
  {
   "cell_type": "code",
   "execution_count": 7,
   "metadata": {},
   "outputs": [
    {
     "name": "stdout",
     "output_type": "stream",
     "text": [
      "20\n",
      "Hello Achu\n",
      "Your age is :  25\n"
     ]
    }
   ],
   "source": [
    "#Exercise 1\n",
    "p_age= 20\n",
    "p_name= \"John Smith\"\n",
    "p_new= True\n",
    "print(p_age)\n",
    "\n",
    "#Inputs\n",
    "n_name= input(\"What is your name? \")\n",
    "print(\"Hello \" + n_name)\n",
    "\n",
    "n_byear= input(\"Enter your year of birth: \")\n",
    "current_age=2024 - int(n_byear)\n",
    "print(\"Your age is : \", current_age)"
   ]
  },
  {
   "cell_type": "code",
   "execution_count": 19,
   "metadata": {},
   "outputs": [
    {
     "name": "stdout",
     "output_type": "stream",
     "text": [
      "10\n",
      "True\n",
      "2\n",
      "Ich lerne python. ich bin eine neue studentin von python.\n",
      "Ich lerne Deutsch. Ich bin eine neue studentin von Deutsch.\n",
      "ICH LERNE PYTHON. ICH BIN EINE NEUE STUDENTIN VON PYTHON.\n",
      "1\n"
     ]
    }
   ],
   "source": [
    "#Strings and operations\n",
    "#String is immutable. Mostly when methods are performed on it, a new string is created and the old string remains unmodified.\n",
    "name='Ich lerne Python. Ich bin eine neue studentin von Python.'\n",
    "print(name.find('Python')) #finds the first occurance of the word and returns its index.\n",
    "print('Python' in name) #finds if word is present or not and returns boolean.\n",
    "print(name.count('Python'))\n",
    "print(name.capitalize()) #captialize only the first letter\n",
    "print(name.replace('Python', 'Deutsch'))\n",
    "print(name.upper())\n",
    "print(name.count('bin', 0, 20))\n"
   ]
  }
 ],
 "metadata": {
  "kernelspec": {
   "display_name": "base",
   "language": "python",
   "name": "python3"
  },
  "language_info": {
   "codemirror_mode": {
    "name": "ipython",
    "version": 3
   },
   "file_extension": ".py",
   "mimetype": "text/x-python",
   "name": "python",
   "nbconvert_exporter": "python",
   "pygments_lexer": "ipython3",
   "version": "3.12.2"
  }
 },
 "nbformat": 4,
 "nbformat_minor": 2
}
